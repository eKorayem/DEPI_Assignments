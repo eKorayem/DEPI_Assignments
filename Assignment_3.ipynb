{
 "cells": [
  {
   "cell_type": "code",
   "execution_count": 24,
   "id": "cd29f638-6978-4dd3-8891-afc05921d909",
   "metadata": {},
   "outputs": [
    {
     "data": {
      "text/plain": [
       "2"
      ]
     },
     "execution_count": 24,
     "metadata": {},
     "output_type": "execute_result"
    }
   ],
   "source": [
    "# Question 1 -- counting Vowels\n",
    "def count_vowels(text):\n",
    "    text = text.lower()\n",
    "    cnt = 0\n",
    "    vowels = ['a', 'e', 'i', 'o', 'u']\n",
    "    for c in text:\n",
    "        if c in vowels:\n",
    "            cnt+=1\n",
    "    return cnt\n",
    "\n",
    "count_vowels(\"Eslam\")"
   ]
  },
  {
   "cell_type": "code",
   "execution_count": 26,
   "id": "68e4cc53-0633-4927-a7b9-2c7a5312b0d0",
   "metadata": {},
   "outputs": [
    {
     "data": {
      "text/plain": [
       "10"
      ]
     },
     "execution_count": 26,
     "metadata": {},
     "output_type": "execute_result"
    }
   ],
   "source": [
    "# Question 2 -- Maximum value in a list\n",
    "def find_max(lst):\n",
    "    max_num = lst[0]\n",
    "    for n in lst:\n",
    "        if n>max_num:\n",
    "            max_num = n\n",
    "    return max_num\n",
    "\n",
    "find_max([2,3,4, 10, 5])"
   ]
  }
 ],
 "metadata": {
  "kernelspec": {
   "display_name": "Python 3 (ipykernel)",
   "language": "python",
   "name": "python3"
  },
  "language_info": {
   "codemirror_mode": {
    "name": "ipython",
    "version": 3
   },
   "file_extension": ".py",
   "mimetype": "text/x-python",
   "name": "python",
   "nbconvert_exporter": "python",
   "pygments_lexer": "ipython3",
   "version": "3.12.4"
  }
 },
 "nbformat": 4,
 "nbformat_minor": 5
}
