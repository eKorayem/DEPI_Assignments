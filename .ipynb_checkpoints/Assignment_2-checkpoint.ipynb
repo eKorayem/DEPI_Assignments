{
 "cells": [
  {
   "cell_type": "code",
   "execution_count": 6,
   "id": "75d28478-4ef5-400e-88f8-6b6766a16704",
   "metadata": {},
   "outputs": [
    {
     "name": "stdout",
     "output_type": "stream",
     "text": [
      "[0, 1, 2, 3, 4, 50]\n"
     ]
    }
   ],
   "source": [
    "list1 = [3, 1, 4]\n",
    "list2 = [2, 50, 0]\n",
    "\n",
    "list3 = list1+list2\n",
    "\n",
    "def srt(arr):\n",
    "    for n in range(len(arr) - 1, 0, -1):\n",
    "        for i in range(n):\n",
    "            if arr[i] > arr[i + 1]:\n",
    "                swapped = True\n",
    "                arr[i], arr[i + 1] = arr[i + 1], arr[i]\n",
    "        \n",
    "srt(list3)\n",
    "\n",
    "print(list3)"
   ]
  },
  {
   "cell_type": "code",
   "execution_count": null,
   "id": "a72a58c7-1e1d-49be-8df4-01a38aff3acc",
   "metadata": {},
   "outputs": [],
   "source": []
  }
 ],
 "metadata": {
  "kernelspec": {
   "display_name": "Python 3 (ipykernel)",
   "language": "python",
   "name": "python3"
  },
  "language_info": {
   "codemirror_mode": {
    "name": "ipython",
    "version": 3
   },
   "file_extension": ".py",
   "mimetype": "text/x-python",
   "name": "python",
   "nbconvert_exporter": "python",
   "pygments_lexer": "ipython3",
   "version": "3.12.4"
  }
 },
 "nbformat": 4,
 "nbformat_minor": 5
}
